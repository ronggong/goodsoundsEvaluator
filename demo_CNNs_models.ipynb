{
 "cells": [
  {
   "cell_type": "code",
   "execution_count": 1,
   "metadata": {
    "collapsed": true
   },
   "outputs": [
    {
     "name": "stderr",
     "output_type": "stream",
     "text": [
      "Using Theano backend.\n"
     ]
    }
   ],
   "source": [
    "from keras.models import load_model\n",
    "from keras.preprocessing import sequence\n",
    "import pickle\n",
    "import numpy as np\n",
    "from trainingDataPreparation import log_mel_feature\n",
    "import time"
   ]
  },
  {
   "cell_type": "code",
   "execution_count": 2,
   "metadata": {},
   "outputs": [],
   "source": [
    "# keras model names\n",
    "filename_model_timbre   = './models/crnn_model_cw_timbre_gru1layer_32nodes_thin_vgg_65k_bidirectional.h5'\n",
    "filename_model_pitch    = './models/crnn_model_cw_pitch_gru1layer_32nodes_fat_vgg.h5'\n",
    "filename_model_dynamics = './models/crnn_model_cw_dynamics_gru1layer_32nodes_thin_vgg.h5'\n",
    "filename_model_richness = './models/crnn_model_cw_richness_gru1layer_32nodes_thin_vgg.h5'\n",
    "filename_model_attack   = './models/crnn_model_cw_attack_gru1layer_32nodes_fat_vgg.h5'\n",
    "\n",
    "# feature scaler path\n",
    "filename_scaler_timbre = './dataset/scaler_timbre_train.pkl'\n",
    "filename_scaler_pitch = './dataset/scaler_pitch_train.pkl'\n",
    "filename_scaler_dynamics = './dataset/scaler_dynamics_train.pkl'\n",
    "filename_scaler_richness = './dataset/scaler_richness_train.pkl'\n",
    "filename_scaler_attack = './dataset/scaler_attack_train.pkl'\n",
    "\n",
    "# load a good sound sample\n",
    "goodsounds_sample = './goodsounds_samples/0023.wav'"
   ]
  },
  {
   "cell_type": "code",
   "execution_count": 3,
   "metadata": {
    "collapsed": false
   },
   "outputs": [
    {
     "name": "stdout",
     "output_type": "stream",
     "text": [
      "Model loading time --- 54.0450699329 seconds ---\n"
     ]
    }
   ],
   "source": [
    "# load models and scalers\n",
    "start_time = time.time()\n",
    "\n",
    "model_timbre = load_model(filename_model_timbre)\n",
    "model_pitch = load_model(filename_model_pitch)\n",
    "model_dynamics = load_model(filename_model_dynamics)\n",
    "model_richness = load_model(filename_model_richness)\n",
    "model_attack = load_model(filename_model_attack)\n",
    "\n",
    "print(\"Model loading time --- %s seconds ---\" % (time.time() - start_time))"
   ]
  },
  {
   "cell_type": "code",
   "execution_count": 4,
   "metadata": {},
   "outputs": [],
   "source": [
    "# load scalers\n",
    "scaler_timbre = pickle.load(open(filename_scaler_timbre,\"rb\"))\n",
    "scaler_pitch = pickle.load(open(filename_scaler_pitch,\"rb\"))\n",
    "scaler_dynamics = pickle.load(open(filename_scaler_dynamics,\"rb\"))\n",
    "scaler_richness = pickle.load(open(filename_scaler_richness,\"rb\"))\n",
    "scaler_attack = pickle.load(open(filename_scaler_attack,\"rb\"))"
   ]
  },
  {
   "cell_type": "code",
   "execution_count": 5,
   "metadata": {},
   "outputs": [],
   "source": [
    "# calculate log mel feature\n",
    "feature = log_mel_feature(goodsounds_sample)"
   ]
  },
  {
   "cell_type": "code",
   "execution_count": 6,
   "metadata": {},
   "outputs": [],
   "source": [
    "# mean and variance scaling\n",
    "feature_timbre = scaler_timbre.transform(feature)\n",
    "feature_pitch = scaler_pitch.transform(feature)\n",
    "feature_dynamics = scaler_dynamics.transform(feature)\n",
    "feature_richness = scaler_richness.transform(feature)\n",
    "feature_attack = scaler_attack.transform(feature)"
   ]
  },
  {
   "cell_type": "code",
   "execution_count": 7,
   "metadata": {},
   "outputs": [],
   "source": [
    "# do feature padding and adding dimension\n",
    "# short sequence will be padded with 0\n",
    "# longer sequence will be truncated\n",
    "max_length = 1401\n",
    "feature_timbre = sequence.pad_sequences(feature_timbre.transpose(), maxlen=max_length, dtype='float32')\n",
    "feature_pitch = sequence.pad_sequences(feature_pitch.transpose(), maxlen=max_length, dtype='float32')\n",
    "feature_dynamics = sequence.pad_sequences(feature_dynamics.transpose(), maxlen=max_length, dtype='float32')\n",
    "feature_richness = sequence.pad_sequences(feature_richness.transpose(), maxlen=max_length, dtype='float32')\n",
    "feature_attack = sequence.pad_sequences(feature_attack.transpose(), maxlen=max_length, dtype='float32')\n",
    "\n",
    "feature_timbre = np.expand_dims(feature_timbre, axis=0)\n",
    "feature_pitch = np.expand_dims(feature_pitch, axis=0)\n",
    "feature_dynamics = np.expand_dims(feature_dynamics, axis=0)\n",
    "feature_richness = np.expand_dims(feature_richness, axis=0)\n",
    "feature_attack = np.expand_dims(feature_attack, axis=0)"
   ]
  },
  {
   "cell_type": "code",
   "execution_count": 8,
   "metadata": {},
   "outputs": [
    {
     "name": "stdout",
     "output_type": "stream",
     "text": [
      "Goodness calculation time--- 6.46161794662 seconds ---\n('timbre stability', 0.99394739)\n('pitch stability', 0.99973553)\n('dynamics stability', 0.98907566)\n('timbre richness', 0.99746829)\n('attack clarity', 0.99744874)\n"
     ]
    }
   ],
   "source": [
    "# calculate goodness\n",
    "start_time = time.time()\n",
    "\n",
    "goodness_timbre = model_timbre.predict(feature_timbre)\n",
    "goodness_pitch = model_pitch.predict(feature_pitch)\n",
    "goodness_dynamics = model_dynamics.predict(feature_dynamics)\n",
    "goodness_richness = model_richness.predict(feature_richness)\n",
    "goodness_attack = model_richness.predict(feature_attack)\n",
    "\n",
    "print(\"Goodness calculation time--- %s seconds ---\" % (time.time() - start_time))\n",
    "\n",
    "print('timbre stability', goodness_timbre[0][1])\n",
    "print('pitch stability', goodness_pitch[0][1])\n",
    "print('dynamics stability', goodness_dynamics[0][1])\n",
    "print('timbre richness', goodness_richness[0][1])\n",
    "print('attack clarity', goodness_attack[0][1])"
   ]
  },
  {
   "cell_type": "code",
   "execution_count": null,
   "metadata": {},
   "outputs": [],
   "source": [
    ""
   ]
  }
 ],
 "metadata": {
  "kernelspec": {
   "display_name": "Python 2",
   "language": "python",
   "name": "python2"
  },
  "language_info": {
   "codemirror_mode": {
    "name": "ipython",
    "version": 2.0
   },
   "file_extension": ".py",
   "mimetype": "text/x-python",
   "name": "python",
   "nbconvert_exporter": "python",
   "pygments_lexer": "ipython2",
   "version": "2.7.6"
  }
 },
 "nbformat": 4,
 "nbformat_minor": 0
}