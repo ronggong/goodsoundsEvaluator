{
 "cells": [
  {
   "cell_type": "code",
   "execution_count": 14,
   "metadata": {
    "collapsed": true
   },
   "outputs": [],
   "source": [
    "import sys\n",
    "sys.path.append(\"./baseline\")\n",
    "from feature_extraction import extract_for_one, convert_pool_to_dataframe\n",
    "import pickle\n",
    "import time"
   ]
  },
  {
   "cell_type": "code",
   "execution_count": 15,
   "metadata": {},
   "outputs": [],
   "source": [
    "# load a good sound sample\n",
    "name_path = './goodsounds_samples/'\n",
    "goodsounds_sample = '0023.wav'\n",
    "\n",
    "# xgboost model names\n",
    "filename_model_timbre   = './baseline/models/xgb_classifier_timbre.plk'\n",
    "filename_model_pitch    = './baseline/models/xgb_classifier_pitch.plk'\n",
    "filename_model_dynamics = './baseline/models/xgb_classifier_dynamics.plk'\n",
    "filename_model_richness = './baseline/models/xgb_classifier_richness.plk'\n",
    "filename_model_attack   = './baseline/models/xgb_classifier_attack.plk'\n",
    "\n",
    "\n",
    "# feature scaler path\n",
    "filename_scaler_timbre = './baseline/models/feature_scaler_timbre.pkl'\n",
    "filename_scaler_pitch = './baseline/models/feature_scaler_pitch.pkl'\n",
    "filename_scaler_dynamics = './baseline/models/feature_scaler_dynamics.pkl'\n",
    "filename_scaler_richness = './baseline/models/feature_scaler_richness.pkl'\n",
    "filename_scaler_attack = './baseline/models/feature_scaler_attack.pkl'"
   ]
  },
  {
   "cell_type": "code",
   "execution_count": 16,
   "metadata": {},
   "outputs": [],
   "source": [
    "# calculate feature\n",
    "pool, _ = extract_for_one(name_path, goodsounds_sample)\n",
    "feature_pd = convert_pool_to_dataframe(pool, goodsounds_sample)\n",
    "feature = feature_pd.values"
   ]
  },
  {
   "cell_type": "code",
   "execution_count": 17,
   "metadata": {},
   "outputs": [
    {
     "name": "stdout",
     "output_type": "stream",
     "text": [
      "Model loading time --- 0.069974899292 seconds ---\n"
     ]
    }
   ],
   "source": [
    "# load models and scalers\n",
    "start_time = time.time()\n",
    "\n",
    "model_timbre = pickle.load(open(filename_model_timbre, 'rb'))\n",
    "model_pitch = pickle.load(open(filename_model_pitch, 'rb'))\n",
    "model_dynamics = pickle.load(open(filename_model_dynamics, 'rb'))\n",
    "model_richness = pickle.load(open(filename_model_richness, 'rb'))\n",
    "model_attack = pickle.load(open(filename_model_attack, 'rb'))\n",
    "\n",
    "print(\"Model loading time --- %s seconds ---\" % (time.time() - start_time))"
   ]
  },
  {
   "cell_type": "code",
   "execution_count": 18,
   "metadata": {},
   "outputs": [],
   "source": [
    "# load scalers\n",
    "scaler_timbre = pickle.load(open(filename_scaler_timbre,\"rb\"))\n",
    "scaler_pitch = pickle.load(open(filename_scaler_pitch,\"rb\"))\n",
    "scaler_dynamics = pickle.load(open(filename_scaler_dynamics,\"rb\"))\n",
    "scaler_richness = pickle.load(open(filename_scaler_richness,\"rb\"))\n",
    "scaler_attack = pickle.load(open(filename_scaler_attack,\"rb\"))"
   ]
  },
  {
   "cell_type": "code",
   "execution_count": 19,
   "metadata": {},
   "outputs": [],
   "source": [
    "# mean and variance scaling\n",
    "feature_timbre = scaler_timbre.transform(feature)\n",
    "feature_pitch = scaler_pitch.transform(feature)\n",
    "feature_dynamics = scaler_dynamics.transform(feature)\n",
    "feature_richness = scaler_richness.transform(feature)\n",
    "feature_attack = scaler_attack.transform(feature)"
   ]
  },
  {
   "cell_type": "code",
   "execution_count": 22,
   "metadata": {},
   "outputs": [
    {
     "name": "stdout",
     "output_type": "stream",
     "text": [
      "Goodness calculation time--- 0.00554513931274 seconds ---\n('timbre stability', 1)\n('pitch stability', 1)\n('dynamics stability', 1)\n('timbre richness', 1)\n('attack clarity', 1)\n"
     ]
    }
   ],
   "source": [
    "# calculate goodness\n",
    "start_time = time.time()\n",
    "\n",
    "goodness_timbre = model_timbre.predict(feature_timbre)\n",
    "goodness_pitch = model_pitch.predict(feature_pitch)\n",
    "goodness_dynamics = model_dynamics.predict(feature_dynamics)\n",
    "goodness_richness = model_richness.predict(feature_richness)\n",
    "goodness_attack = model_richness.predict(feature_attack)\n",
    "\n",
    "print(\"Goodness calculation time--- %s seconds ---\" % (time.time() - start_time))\n",
    "\n",
    "print('timbre stability', goodness_timbre[0])\n",
    "print('pitch stability', goodness_pitch[0])\n",
    "print('dynamics stability', goodness_dynamics[0])\n",
    "print('timbre richness', goodness_richness[0])\n",
    "print('attack clarity', goodness_attack[0])"
   ]
  },
  {
   "cell_type": "code",
   "execution_count": null,
   "metadata": {},
   "outputs": [],
   "source": [
    ""
   ]
  }
 ],
 "metadata": {
  "kernelspec": {
   "display_name": "Python 2",
   "language": "python",
   "name": "python2"
  },
  "language_info": {
   "codemirror_mode": {
    "name": "ipython",
    "version": 2.0
   },
   "file_extension": ".py",
   "mimetype": "text/x-python",
   "name": "python",
   "nbconvert_exporter": "python",
   "pygments_lexer": "ipython2",
   "version": "2.7.6"
  }
 },
 "nbformat": 4,
 "nbformat_minor": 0
}